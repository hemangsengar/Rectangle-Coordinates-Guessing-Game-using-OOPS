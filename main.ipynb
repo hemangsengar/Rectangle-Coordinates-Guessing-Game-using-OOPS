{
 "cells": [
  {
   "cell_type": "code",
   "execution_count": 42,
   "metadata": {},
   "outputs": [
    {
     "data": {
      "text/plain": [
       "'\\n\\nclass House:\\n\\n    def __init__(self, wall_area):\\n        self.wall_area = wall_area\\n\\nclass Paint:\\n    def __intit__(self,buckets, color):\\n        self.buckets = buckets\\n        self.color = color\\n\\n\\n'"
      ]
     },
     "execution_count": 42,
     "metadata": {},
     "output_type": "execute_result"
    }
   ],
   "source": [
    "\"\"\"\n",
    "\n",
    "class House:\n",
    "\n",
    "    def __init__(self, wall_area):\n",
    "        self.wall_area = wall_area\n",
    "\n",
    "class Paint:\n",
    "    def __intit__(self,buckets, color):\n",
    "        self.buckets = buckets\n",
    "        self.color = color\n",
    "\n",
    "\n",
    "\"\"\""
   ]
  },
  {
   "cell_type": "code",
   "execution_count": 43,
   "metadata": {},
   "outputs": [],
   "source": [
    "import math"
   ]
  },
  {
   "cell_type": "code",
   "execution_count": 44,
   "metadata": {},
   "outputs": [],
   "source": [
    "class Point:\n",
    "    def __init__(self,x,y):\n",
    "        self.x=x\n",
    "        self.y=y\n",
    "\n",
    "    def falls_in_rectangle(self, rectangle):\n",
    "        if rectangle.lower_left.x < self.x < rectangle.upper_right.x \\\n",
    "        and rectangle.lower_left.y < self.x < rectangle.upper_right[1]:\n",
    "            return True\n",
    "        else:\n",
    "            return False\n",
    "class Rectangle:\n",
    "    def __init__(self, lower_left, upper_right):\n",
    "        self.lower_left=lower_left\n",
    "        self.upper_right=upper_right\n",
    "    \n"
   ]
  },
  {
   "cell_type": "code",
   "execution_count": 45,
   "metadata": {},
   "outputs": [],
   "source": [
    "from random import randint\n",
    "\n",
    "\n",
    "rectangle = Rectangle(\n",
    "    Point(randint(0,9),randint(0,9)),\n",
    "    Point(randint(10,19),randint(10,19))\n",
    ")"
   ]
  },
  {
   "cell_type": "code",
   "execution_count": 2,
   "metadata": {},
   "outputs": [
    {
     "ename": "NameError",
     "evalue": "name 'rectangle' is not defined",
     "output_type": "error",
     "traceback": [
      "\u001b[1;31m---------------------------------------------------------------------------\u001b[0m",
      "\u001b[1;31mNameError\u001b[0m                                 Traceback (most recent call last)",
      "Cell \u001b[1;32mIn[2], line 2\u001b[0m\n\u001b[0;32m      1\u001b[0m \u001b[38;5;28mprint\u001b[39m(\u001b[38;5;124m\"\u001b[39m\u001b[38;5;124mRectangle Coordinates: \u001b[39m\u001b[38;5;124m\"\u001b[39m,\n\u001b[1;32m----> 2\u001b[0m         \u001b[43mrectangle\u001b[49m\u001b[38;5;241m.\u001b[39mlower_left\u001b[38;5;241m.\u001b[39mx, \u001b[38;5;124m\"\u001b[39m\u001b[38;5;124m,\u001b[39m\u001b[38;5;124m\"\u001b[39m,\n\u001b[0;32m      3\u001b[0m         rectangle\u001b[38;5;241m.\u001b[39mlower_left\u001b[38;5;241m.\u001b[39my, \u001b[38;5;124m\"\u001b[39m\u001b[38;5;124mand\u001b[39m\u001b[38;5;124m\"\u001b[39m,\n\u001b[0;32m      4\u001b[0m         rectangle\u001b[38;5;241m.\u001b[39mupper_right\u001b[38;5;241m.\u001b[39mx, \u001b[38;5;124m\"\u001b[39m\u001b[38;5;124m,\u001b[39m\u001b[38;5;124m\"\u001b[39m,\n\u001b[0;32m      5\u001b[0m         rectangle\u001b[38;5;241m.\u001b[39mupper_right\u001b[38;5;241m.\u001b[39my)\n\u001b[0;32m      7\u001b[0m user_point \u001b[38;5;241m=\u001b[39m Point(\u001b[38;5;28mfloat\u001b[39m(\u001b[38;5;28minput\u001b[39m(\u001b[38;5;124m\"\u001b[39m\u001b[38;5;124mGuess X: \u001b[39m\u001b[38;5;124m\"\u001b[39m)), \u001b[38;5;28mfloat\u001b[39m(\u001b[38;5;28minput\u001b[39m(\u001b[38;5;124m\"\u001b[39m\u001b[38;5;124mGuess Y: \u001b[39m\u001b[38;5;124m\"\u001b[39m)))\n\u001b[0;32m      9\u001b[0m \u001b[38;5;28mprint\u001b[39m(\u001b[38;5;124m\"\u001b[39m\u001b[38;5;124mYour point was inside rectangle: \u001b[39m\u001b[38;5;124m\"\u001b[39m,\n\u001b[0;32m     10\u001b[0m       user_point\u001b[38;5;241m.\u001b[39mfalls_in_rectangle(rectangle))\n",
      "\u001b[1;31mNameError\u001b[0m: name 'rectangle' is not defined"
     ]
    }
   ],
   "source": [
    "print(\"Rectangle Coordinates: \",\n",
    "        rectangle.lower_left.x, \",\",\n",
    "        rectangle.lower_left.y, \"and\",\n",
    "        rectangle.upper_right.x, \",\",\n",
    "        rectangle.upper_right.y)\n",
    "\n",
    "user_point = Point(float(input(\"Guess X: \")),\n",
    "                float(input(\"Guess Y: \")))\n",
    "\n",
    "print(\"Your point was inside rectangle: \",\n",
    "      user_point.falls_in_rectangle(rectangle))"
   ]
  }
 ],
 "metadata": {
  "kernelspec": {
   "display_name": "Python 3",
   "language": "python",
   "name": "python3"
  },
  "language_info": {
   "codemirror_mode": {
    "name": "ipython",
    "version": 3
   },
   "file_extension": ".py",
   "mimetype": "text/x-python",
   "name": "python",
   "nbconvert_exporter": "python",
   "pygments_lexer": "ipython3",
   "version": "3.12.4"
  }
 },
 "nbformat": 4,
 "nbformat_minor": 2
}
